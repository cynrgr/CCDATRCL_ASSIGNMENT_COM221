{
  "cells": [
    {
      "cell_type": "markdown",
      "metadata": {
        "id": "view-in-github",
        "colab_type": "text"
      },
      "source": [
        "<a href=\"https://colab.research.google.com/github/cynrgr/CCDATRCL_ASSIGNMENT_COM221/blob/main/Exercise7.ipynb\" target=\"_parent\"><img src=\"https://colab.research.google.com/assets/colab-badge.svg\" alt=\"Open In Colab\"/></a>"
      ]
    },
    {
      "cell_type": "markdown",
      "metadata": {
        "id": "e3Ja3uozAJlw"
      },
      "source": [
        "# Exercise 7"
      ]
    },
    {
      "cell_type": "code",
      "execution_count": 111,
      "metadata": {
        "id": "IW6uTwU8AJly"
      },
      "outputs": [],
      "source": [
        "class Node:\n",
        "    def __init__(self, item):\n",
        "        self.left = None\n",
        "        self.right = None\n",
        "        self.val = item"
      ]
    },
    {
      "cell_type": "code",
      "execution_count": 112,
      "metadata": {
        "id": "uxVFuimIAJlz"
      },
      "outputs": [],
      "source": [
        "def evaluateExpressionTree(root):\n",
        "\n",
        "    # empty tree\n",
        "    if root is None:\n",
        "        return 0\n",
        "\n",
        "    # leaf node\n",
        "    if root.left is None and root.right is None:\n",
        "        return int(root.val)\n",
        "\n",
        "    # evaluate left tree\n",
        "    left_sum = evaluateExpressionTree(root.left)\n",
        "\n",
        "    # evaluate right tree\n",
        "    right_sum = evaluateExpressionTree(root.right)\n",
        "\n",
        "    # check which operation to apply\n",
        "    if root.val == '+':\n",
        "        return left_sum + right_sum\n",
        "\n",
        "    elif root.val == '-':\n",
        "        return left_sum - right_sum\n",
        "\n",
        "    elif root.val == '*':\n",
        "        return left_sum * right_sum\n",
        "\n",
        "    else:\n",
        "        return left_sum / right_sum"
      ]
    },
    {
      "cell_type": "code",
      "execution_count": 113,
      "metadata": {
        "id": "-xWZXA-mAJl0"
      },
      "outputs": [],
      "source": [
        "def inorder(root):\n",
        "\n",
        "    if root:\n",
        "        # Traverse left\n",
        "        inorder(root.left)\n",
        "        # Traverse root\n",
        "        print(str(root.val) + \"->\", end='')\n",
        "        # Traverse right\n",
        "        inorder(root.right)"
      ]
    },
    {
      "cell_type": "markdown",
      "metadata": {
        "id": "CVtqxh5DAJl1"
      },
      "source": [
        "#### 1. Construct a binary expression tree\n",
        "\n",
        "\n",
        "- Use the evaluateExpressionTree method to get the result of the expression\n",
        "- Use the inorder method to traverse the tree  \n",
        "\n",
        "$$ (8 + 4) * (7 - 9) $$"
      ]
    },
    {
      "cell_type": "code",
      "execution_count": 114,
      "metadata": {
        "id": "CxpP0zcVAJl1",
        "colab": {
          "base_uri": "https://localhost:8080/"
        },
        "outputId": "5a3399a3-94cf-4752-d7cc-d7f85be5af82"
      },
      "outputs": [
        {
          "output_type": "stream",
          "name": "stdout",
          "text": [
            "Result: -24\n"
          ]
        }
      ],
      "source": [
        "# put your answer here\n",
        "\n",
        "root = Node(\"*\")\n",
        "Node1 = Node(\"+\")\n",
        "Node2 = Node(\"-\")\n",
        "Node3 = Node(\"8\")\n",
        "Node4 = Node(\"4\")\n",
        "Node5 = Node(\"7\")\n",
        "Node6 = Node(\"9\")\n",
        "\n",
        "root.left = Node1\n",
        "root.right = Node2\n",
        "Node1.left = Node3\n",
        "Node1.right = Node4\n",
        "Node2.left = Node5\n",
        "Node2.right = Node6\n",
        "\n",
        "print(\"Result:\", evaluateExpressionTree(root))"
      ]
    },
    {
      "cell_type": "code",
      "source": [
        "inorder(root)"
      ],
      "metadata": {
        "colab": {
          "base_uri": "https://localhost:8080/"
        },
        "id": "GAZ5ObSNg3X6",
        "outputId": "5bef23f8-4a3b-4ca1-b9ac-cc1a246e44b9"
      },
      "execution_count": 115,
      "outputs": [
        {
          "output_type": "stream",
          "name": "stdout",
          "text": [
            "8->+->4->*->7->-->9->"
          ]
        }
      ]
    },
    {
      "cell_type": "markdown",
      "metadata": {
        "id": "jc5KHLk6AJl2"
      },
      "source": [
        "#### 2. Construct a binary expression tree\n",
        "\n",
        "- Use the evaluateExpressionTree method to get the result of the expression\n",
        "- Use the inorder method to traverse the tree  \n",
        "\n",
        "$$ 5 / 8 + 3 - 6 * 1 $$"
      ]
    },
    {
      "cell_type": "code",
      "execution_count": 116,
      "metadata": {
        "id": "XORzqkC3AJl2",
        "colab": {
          "base_uri": "https://localhost:8080/"
        },
        "outputId": "510594ff-1845-4b47-cf9b-d442292f336d"
      },
      "outputs": [
        {
          "output_type": "stream",
          "name": "stdout",
          "text": [
            "Result: -2.375\n"
          ]
        }
      ],
      "source": [
        "# put your answer here\n",
        "root = Node(\"-\")\n",
        "Node1 = Node(\"+\")\n",
        "Node2 = Node(\"*\")\n",
        "Node3 = Node(\"/\")\n",
        "Node4 = Node(\"3\")\n",
        "Node5 = Node(\"5\")\n",
        "Node6 = Node(\"8\")\n",
        "Node7 = Node(\"6\")\n",
        "Node8 = Node(\"1\")\n",
        "\n",
        "root.left = Node1\n",
        "Node1.left = Node3\n",
        "Node1.right = Node4\n",
        "\n",
        "Node3.left = Node5\n",
        "Node3.right = Node6\n",
        "\n",
        "root.right = Node2\n",
        "Node2.left = Node7\n",
        "Node2.right = Node8\n",
        "\n",
        "print(\"Result:\", evaluateExpressionTree(root))"
      ]
    },
    {
      "cell_type": "code",
      "source": [
        "inorder(root)"
      ],
      "metadata": {
        "colab": {
          "base_uri": "https://localhost:8080/"
        },
        "id": "Vg2UHu0MlFKC",
        "outputId": "63de1af4-4427-4925-cef5-568947d4c4d8"
      },
      "execution_count": 117,
      "outputs": [
        {
          "output_type": "stream",
          "name": "stdout",
          "text": [
            "5->/->8->+->3->-->6->*->1->"
          ]
        }
      ]
    },
    {
      "cell_type": "markdown",
      "metadata": {
        "id": "tu3n5ZdWAJl2"
      },
      "source": [
        "#### 3. Construct a binary expression tree\n",
        "\n",
        "- Use the evaluateExpressionTree method to get the result of the expression\n",
        "- Use the inorder method to traverse the tree  \n",
        "\n",
        "$$ ((2 + 5) / 3)- (3 + 8) $$"
      ]
    },
    {
      "cell_type": "code",
      "execution_count": 118,
      "metadata": {
        "id": "5GvZBxgtAJl3",
        "colab": {
          "base_uri": "https://localhost:8080/"
        },
        "outputId": "e1812667-95c8-4d04-a591-269c0bf6de11"
      },
      "outputs": [
        {
          "output_type": "stream",
          "name": "stdout",
          "text": [
            "Result: -8.666666666666666\n"
          ]
        }
      ],
      "source": [
        "# put your answer here\n",
        "root = Node(\"-\")\n",
        "Node1 = Node(\"/\")\n",
        "Node2 = Node(\"+\")\n",
        "Node3 = Node(\"+\")\n",
        "Node4 = Node(\"3\")\n",
        "Node5 = Node(\"2\")\n",
        "Node6 = Node(\"5\")\n",
        "Node7 = Node(\"3\")\n",
        "Node8 = Node(\"8\")\n",
        "\n",
        "root.left = Node1\n",
        "Node1.left = Node3\n",
        "Node1.right = Node4\n",
        "\n",
        "Node3.left = Node5\n",
        "Node3.right = Node6\n",
        "\n",
        "root.right = Node2\n",
        "Node2.left = Node7\n",
        "Node2.right = Node8\n",
        "\n",
        "print(\"Result:\", evaluateExpressionTree(root))"
      ]
    },
    {
      "cell_type": "code",
      "source": [
        "inorder(root)"
      ],
      "metadata": {
        "colab": {
          "base_uri": "https://localhost:8080/"
        },
        "id": "Cn5KrgBNmBPE",
        "outputId": "ce105707-7e30-42db-9c0a-78d58ac0b65f"
      },
      "execution_count": 119,
      "outputs": [
        {
          "output_type": "stream",
          "name": "stdout",
          "text": [
            "2->+->5->/->3->-->3->+->8->"
          ]
        }
      ]
    }
  ],
  "metadata": {
    "kernelspec": {
      "display_name": "Python 3",
      "language": "python",
      "name": "python3"
    },
    "language_info": {
      "codemirror_mode": {
        "name": "ipython",
        "version": 3
      },
      "file_extension": ".py",
      "mimetype": "text/x-python",
      "name": "python",
      "nbconvert_exporter": "python",
      "pygments_lexer": "ipython3",
      "version": "3.11.4"
    },
    "orig_nbformat": 4,
    "colab": {
      "provenance": [],
      "include_colab_link": true
    }
  },
  "nbformat": 4,
  "nbformat_minor": 0
}