{
  "cells": [
    {
      "cell_type": "markdown",
      "metadata": {
        "id": "view-in-github",
        "colab_type": "text"
      },
      "source": [
        "<a href=\"https://colab.research.google.com/github/cynrgr/CCDATRCL_ASSIGNMENT_COM221/blob/main/Exercise5.ipynb\" target=\"_parent\"><img src=\"https://colab.research.google.com/assets/colab-badge.svg\" alt=\"Open In Colab\"/></a>"
      ]
    },
    {
      "cell_type": "markdown",
      "metadata": {
        "id": "JLDxJTeuBsLF"
      },
      "source": [
        "# Exercise 5"
      ]
    },
    {
      "cell_type": "markdown",
      "metadata": {
        "id": "4wsioXbOBsLM"
      },
      "source": [
        "#### 1. Create a dictionary of your 10 favorite songs."
      ]
    },
    {
      "cell_type": "markdown",
      "metadata": {
        "id": "0zii2h3iBsLN"
      },
      "source": [
        "Example:\n",
        "\n",
        "|KEY|VALUE|\n",
        "|---|---|\n",
        "|001|My Love|\n",
        "|002|Like a rose|"
      ]
    },
    {
      "cell_type": "code",
      "execution_count": 36,
      "metadata": {
        "id": "OTc6z_01BsLP",
        "colab": {
          "base_uri": "https://localhost:8080/"
        },
        "outputId": "06e994d7-17ec-4291-d922-1237d858fc18"
      },
      "outputs": [
        {
          "output_type": "stream",
          "name": "stdout",
          "text": [
            "{'001': 'Tingin', '002': 'Understand', '003': 'Wag Na Lang', '004': 'People You Know', '005': 'Vintage', '006': 'Indigo', '007': 'Isip', '008': 'Ambon', '009': 'Orasa', '010': 'Martini Blue'}\n"
          ]
        }
      ],
      "source": [
        "# put your answer here\n",
        "mydictionary = {\n",
        "    \"001\": \"Tingin\",\n",
        "    \"002\": \"Understand\",\n",
        "    \"003\": \"Wag Na Lang\",\n",
        "    \"004\": \"People You Know\",\n",
        "    \"005\": \"Vintage\",\n",
        "    \"006\": \"Indigo\",\n",
        "    \"007\": \"Isip\",\n",
        "    \"008\": \"Ambon\",\n",
        "    \"009\": \"Orasa\",\n",
        "    \"010\": \"Martini Blue\"\n",
        "}\n",
        "print(mydictionary)"
      ]
    },
    {
      "cell_type": "markdown",
      "metadata": {
        "id": "4cv51_BuBsLR"
      },
      "source": [
        "#### 2. Loop through the dictionary by its **key** and **value**"
      ]
    },
    {
      "cell_type": "code",
      "execution_count": 37,
      "metadata": {
        "id": "ljqgaRvcBsLS",
        "colab": {
          "base_uri": "https://localhost:8080/"
        },
        "outputId": "cefe18f2-8d0b-455b-fd94-0966107fec13"
      },
      "outputs": [
        {
          "output_type": "stream",
          "name": "stdout",
          "text": [
            "001 Tingin\n",
            "002 Understand\n",
            "003 Wag Na Lang\n",
            "004 People You Know\n",
            "005 Vintage\n",
            "006 Indigo\n",
            "007 Isip\n",
            "008 Ambon\n",
            "009 Orasa\n",
            "010 Martini Blue\n"
          ]
        }
      ],
      "source": [
        "# put your answer here\n",
        "for x, y in mydictionary.items():\n",
        "  print(x, y)"
      ]
    },
    {
      "cell_type": "markdown",
      "metadata": {
        "id": "6CE7bkOfBsLT"
      },
      "source": [
        "#### 3. Add one additional song"
      ]
    },
    {
      "cell_type": "code",
      "execution_count": 38,
      "metadata": {
        "id": "ZY73CG5lBsLT",
        "colab": {
          "base_uri": "https://localhost:8080/"
        },
        "outputId": "ae0f7fab-320f-451c-80c8-da57e902299e"
      },
      "outputs": [
        {
          "output_type": "execute_result",
          "data": {
            "text/plain": [
              "{'001': 'Tingin',\n",
              " '002': 'Understand',\n",
              " '003': 'Wag Na Lang',\n",
              " '004': 'People You Know',\n",
              " '005': 'Vintage',\n",
              " '006': 'Indigo',\n",
              " '007': 'Isip',\n",
              " '008': 'Ambon',\n",
              " '009': 'Orasa',\n",
              " '010': 'Martini Blue',\n",
              " '011': 'Nahuhulog'}"
            ]
          },
          "metadata": {},
          "execution_count": 38
        }
      ],
      "source": [
        "# put your answer here\n",
        "mydictionary[\"011\"] = \"Nahuhulog\"\n",
        "mydictionary"
      ]
    },
    {
      "cell_type": "markdown",
      "metadata": {
        "id": "SOfGVrn-BsLV"
      },
      "source": [
        "#### 4. Remove one song"
      ]
    },
    {
      "cell_type": "code",
      "execution_count": 39,
      "metadata": {
        "id": "lS0rXD1FBsLW",
        "colab": {
          "base_uri": "https://localhost:8080/"
        },
        "outputId": "9a158251-ddf6-4304-8185-f4971b19f222"
      },
      "outputs": [
        {
          "output_type": "execute_result",
          "data": {
            "text/plain": [
              "{'001': 'Tingin',\n",
              " '002': 'Understand',\n",
              " '003': 'Wag Na Lang',\n",
              " '004': 'People You Know',\n",
              " '005': 'Vintage',\n",
              " '006': 'Indigo',\n",
              " '007': 'Isip',\n",
              " '009': 'Orasa',\n",
              " '010': 'Martini Blue',\n",
              " '011': 'Nahuhulog'}"
            ]
          },
          "metadata": {},
          "execution_count": 39
        }
      ],
      "source": [
        "# put your answer here\n",
        "mydictionary.pop(\"008\")\n",
        "mydictionary"
      ]
    },
    {
      "cell_type": "markdown",
      "metadata": {
        "id": "nddgusxZBsLW"
      },
      "source": [
        "#### 5. Create a nested dictionary of your 10 favorite songs with 5 genres. Display all of the items of the nested dictionary\n",
        "\n",
        "- Each nested dictionary's key should be the genre of the song\n",
        "- Put each song in their respective genre"
      ]
    },
    {
      "cell_type": "markdown",
      "metadata": {
        "id": "2p4gLjw7BsLX"
      },
      "source": [
        "Example:\n",
        "\n",
        "\n",
        "|KEY|VALUE|\n",
        "|---|---|\n",
        "|Pop|{001, Baby}|\n",
        "|Rock|{001, Enter Sandman}|"
      ]
    },
    {
      "cell_type": "code",
      "execution_count": 40,
      "metadata": {
        "id": "wZCv3ncjBsLX",
        "colab": {
          "base_uri": "https://localhost:8080/"
        },
        "outputId": "e93e792d-452c-4516-aca4-0ca79ee64af0"
      },
      "outputs": [
        {
          "output_type": "execute_result",
          "data": {
            "text/plain": [
              "{'P-pop': {'001': 'Raining in Manila', '002': 'Tingin'},\n",
              " 'RnB': {'001': 'Snooze', '002': 'My Favourite Clothes'},\n",
              " 'K-pop': {'001': '20', '002': 'Chaconne'},\n",
              " 'J-pop': {'001': 'Polaris', '002': 'Dramaturgy'},\n",
              " 'Classical': {'001': 'Clair De Lune', '002': 'Moonlight'}}"
            ]
          },
          "metadata": {},
          "execution_count": 40
        }
      ],
      "source": [
        "# put your answer here\n",
        "mydictionary = {\n",
        "    \"P-pop\": {\n",
        "        \"001\": \"Raining in Manila\",\n",
        "        \"002\": \"Tingin\"\n",
        "    },\n",
        "    \"RnB\": {\n",
        "        \"001\": \"Snooze\",\n",
        "        \"002\": \"My Favourite Clothes\"\n",
        "    },\n",
        "    \"K-pop\": {\n",
        "        \"001\": \"20\",\n",
        "        \"002\": \"Chaconne\"\n",
        "    },\n",
        "    \"J-pop\": {\n",
        "        \"001\": \"Polaris\",\n",
        "        \"002\": \"Dramaturgy\"\n",
        "    },\n",
        "    \"Classical\": {\n",
        "        \"001\": \"Clair De Lune\",\n",
        "        \"002\": \"Moonlight\"\n",
        "    }\n",
        "}\n",
        "\n",
        "mydictionary"
      ]
    },
    {
      "cell_type": "markdown",
      "metadata": {
        "id": "c0oekUaEBsLY"
      },
      "source": [
        "#### 6. Print the first song of the first genre"
      ]
    },
    {
      "cell_type": "code",
      "execution_count": 41,
      "metadata": {
        "id": "bncHayepBsLY",
        "colab": {
          "base_uri": "https://localhost:8080/"
        },
        "outputId": "e26164c7-910e-44c7-b749-64aeea150ba7"
      },
      "outputs": [
        {
          "output_type": "stream",
          "name": "stdout",
          "text": [
            "Raining in Manila\n"
          ]
        }
      ],
      "source": [
        "# put your answer here\n",
        "print(mydictionary[\"P-pop\"][\"001\"])"
      ]
    },
    {
      "cell_type": "markdown",
      "metadata": {
        "id": "hztGNheDBsLY"
      },
      "source": [
        "#### 7. Print the first song of the last genre"
      ]
    },
    {
      "cell_type": "code",
      "execution_count": 42,
      "metadata": {
        "id": "5jCjqMkrBsLZ",
        "colab": {
          "base_uri": "https://localhost:8080/"
        },
        "outputId": "8420d726-a283-44d7-8150-59fe960f9e2d"
      },
      "outputs": [
        {
          "output_type": "stream",
          "name": "stdout",
          "text": [
            "Clair De Lune\n"
          ]
        }
      ],
      "source": [
        "# put your answer here\n",
        "print(mydictionary[\"Classical\"][\"001\"])"
      ]
    }
  ],
  "metadata": {
    "kernelspec": {
      "display_name": "Python 3",
      "language": "python",
      "name": "python3"
    },
    "language_info": {
      "codemirror_mode": {
        "name": "ipython",
        "version": 3
      },
      "file_extension": ".py",
      "mimetype": "text/x-python",
      "name": "python",
      "nbconvert_exporter": "python",
      "pygments_lexer": "ipython3",
      "version": "3.11.4"
    },
    "orig_nbformat": 4,
    "colab": {
      "provenance": [],
      "include_colab_link": true
    }
  },
  "nbformat": 4,
  "nbformat_minor": 0
}